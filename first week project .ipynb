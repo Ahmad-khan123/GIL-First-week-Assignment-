{
 "cells": [
  {
   "cell_type": "code",
   "execution_count": 1,
   "id": "6511da4a",
   "metadata": {},
   "outputs": [
    {
     "name": "stdout",
     "output_type": "stream",
     "text": [
      "What is your name? ahmad khan\n",
      "How old are you? 23\n",
      "Name: ahmad khan\n",
      "Age: 23\n",
      "Height: 1.65\n",
      "Is active: True\n",
      "Favorite fruits: ['apple', 'banana', 'orange']\n",
      "Total cost: 75\n",
      "Discounted cost: 60.0\n"
     ]
    }
   ],
   "source": [
    "# Data Types\n",
    "name = \"Ahmad khan \"      # String\n",
    "age = 30            # Integer\n",
    "height = 1.65       # Float\n",
    "is_active = True    # Boolean\n",
    "fruits = [\"apple\", \"banana\", \"orange\"]  # List\n",
    "\n",
    "# Typecasting\n",
    "number_string = \"123\"\n",
    "number_int = int(number_string)  # Convert string to integer\n",
    "\n",
    "# Operators\n",
    "total_cost = 50 + 25  # Arithmetic operator\n",
    "discount = True       # Logical value\n",
    "discounted_cost = total_cost * 0.8 if discount else total_cost  # Conditional expression\n",
    "\n",
    "# User Input\n",
    "name = input(\"What is your name? \")\n",
    "age = int(input(\"How old are you? \"))  # Convert input to integer\n",
    "\n",
    "# Print values and results\n",
    "print(\"Name:\", name)\n",
    "print(\"Age:\", age)\n",
    "print(\"Height:\", height)\n",
    "print(\"Is active:\", is_active)\n",
    "print(\"Favorite fruits:\", fruits)\n",
    "print(\"Total cost:\", total_cost)\n",
    "print(\"Discounted cost:\", discounted_cost)"
   ]
  },
  {
   "cell_type": "code",
   "execution_count": null,
   "id": "9afb4358",
   "metadata": {},
   "outputs": [],
   "source": []
  }
 ],
 "metadata": {
  "kernelspec": {
   "display_name": "Python 3 (ipykernel)",
   "language": "python",
   "name": "python3"
  },
  "language_info": {
   "codemirror_mode": {
    "name": "ipython",
    "version": 3
   },
   "file_extension": ".py",
   "mimetype": "text/x-python",
   "name": "python",
   "nbconvert_exporter": "python",
   "pygments_lexer": "ipython3",
   "version": "3.11.5"
  }
 },
 "nbformat": 4,
 "nbformat_minor": 5
}
