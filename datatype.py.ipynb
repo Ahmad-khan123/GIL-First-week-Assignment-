{
 "cells": [
  {
   "cell_type": "code",
   "execution_count": 2,
   "id": "3fec9d79",
   "metadata": {},
   "outputs": [
    {
     "name": "stdout",
     "output_type": "stream",
     "text": [
      "5 <class 'int'>\n",
      "5 <class 'int'>\n",
      "(2+6j) <class 'complex'>\n"
     ]
    }
   ],
   "source": [
    "# data type  intger and float \n",
    "a=5\n",
    "print(a,type(a))\n",
    "b= 5.5\n",
    "print(a ,type(a))\n",
    "a= 2+6j\n",
    "print(a, type (a))\n",
    "\n"
   ]
  },
  {
   "cell_type": "code",
   "execution_count": 3,
   "id": "1a84272e",
   "metadata": {},
   "outputs": [
    {
     "name": "stdout",
     "output_type": "stream",
     "text": [
      "3600\n"
     ]
    }
   ],
   "source": [
    "#Write a program that takes two numbers as input and prints their sum.\n",
    "a= 80\n",
    "b= 45\n",
    "c= a*b\n",
    "print(c)"
   ]
  },
  {
   "cell_type": "code",
   "execution_count": 4,
   "id": "f10f17e6",
   "metadata": {},
   "outputs": [
    {
     "name": "stdout",
     "output_type": "stream",
     "text": [
      "hello ahmad  <class 'str'>\n",
      "30\n",
      "\n",
      "hello \n",
      "welcome to the GIL\n",
      "\n"
     ]
    }
   ],
   "source": [
    "#String\n",
    "S=\"hello ahmad \"\n",
    "print(S,type (S))\n",
    "s='30'\n",
    "print(s)\n",
    "s= '''\n",
    "hello \n",
    "welcome to the GIL\n",
    "'''\n",
    "print(s)"
   ]
  },
  {
   "cell_type": "code",
   "execution_count": 5,
   "id": "d77973df",
   "metadata": {},
   "outputs": [
    {
     "name": "stdout",
     "output_type": "stream",
     "text": [
      "[20, 'ahmad', 4.4] <class 'list'>\n"
     ]
    }
   ],
   "source": [
    "#List \n",
    "L=[20,'ahmad',4.4]\n",
    "print(L, type(L))"
   ]
  },
  {
   "cell_type": "code",
   "execution_count": 6,
   "id": "1fc6ba15",
   "metadata": {},
   "outputs": [
    {
     "name": "stdout",
     "output_type": "stream",
     "text": [
      "(80, 60, 'helllo') <class 'tuple'>\n"
     ]
    }
   ],
   "source": [
    "#tuple \n",
    "t=(80,60,'helllo')\n",
    "print(t,type(t))"
   ]
  },
  {
   "cell_type": "code",
   "execution_count": 12,
   "id": "3b81a4e3",
   "metadata": {},
   "outputs": [
    {
     "name": "stdout",
     "output_type": "stream",
     "text": [
      "{'Name': 'python', 'feess': 800, 'duration': '2 Month'} <class 'dict'>\n"
     ]
    }
   ],
   "source": [
    "#Dictionary \n",
    "d={\n",
    "    'Name':'python',\n",
    "    'feess':800,\n",
    "    'duration':'2 Month',  \n",
    "}\n",
    " \n",
    "print(d,type(d))"
   ]
  },
  {
   "cell_type": "code",
   "execution_count": 11,
   "id": "686d269d",
   "metadata": {},
   "outputs": [
    {
     "name": "stdout",
     "output_type": "stream",
     "text": [
      "{'ahmad', 10, 'noor', 20, 30, 'khan', 90, 'sulaman'} <class 'set'>\n",
      "{'GIL_UOB': 'python course', 'course_duration': '3Month'}\n"
     ]
    }
   ],
   "source": [
    "#Set\n",
    "s={'ahmad','khan','sulaman','noor',10,20,30,90}\n",
    "print(s,type(s))\n",
    "   \n",
    "d={\n",
    "    'GIL_UOB':'python course',\n",
    "    'course_duration':'3Month',\n",
    "}\n",
    "print(d)"
   ]
  },
  {
   "cell_type": "code",
   "execution_count": null,
   "id": "d75e6bb9",
   "metadata": {},
   "outputs": [],
   "source": []
  }
 ],
 "metadata": {
  "kernelspec": {
   "display_name": "Python 3 (ipykernel)",
   "language": "python",
   "name": "python3"
  },
  "language_info": {
   "codemirror_mode": {
    "name": "ipython",
    "version": 3
   },
   "file_extension": ".py",
   "mimetype": "text/x-python",
   "name": "python",
   "nbconvert_exporter": "python",
   "pygments_lexer": "ipython3",
   "version": "3.11.5"
  }
 },
 "nbformat": 4,
 "nbformat_minor": 5
}
