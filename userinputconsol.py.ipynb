{
 "cells": [
  {
   "cell_type": "code",
   "execution_count": 11,
   "id": "b818a1b4",
   "metadata": {},
   "outputs": [
    {
     "name": "stdout",
     "output_type": "stream",
     "text": [
      "enter the first float2.5\n",
      "enter the 2nd float4.6\n",
      "7.1\n"
     ]
    }
   ],
   "source": [
    "a=float(input(\"enter the first float\"))\n",
    "b=float(input(\"enter the 2nd float\"))\n",
    "f=float(a)\n",
    "f=float(b)\n",
    "print( a+b)\n"
   ]
  },
  {
   "cell_type": "code",
   "execution_count": 16,
   "id": "cf0ebb8c",
   "metadata": {},
   "outputs": [
    {
     "name": "stdout",
     "output_type": "stream",
     "text": [
      "hello ahmad40\n",
      "kahn70\n",
      "110\n"
     ]
    }
   ],
   "source": [
    "a=int(input('hello ahmad' ))\n",
    "b=int(input('kahn'))\n",
    "s=str(a)\n",
    "s=str(b)\n",
    "print(a+b)"
   ]
  },
  {
   "cell_type": "code",
   "execution_count": null,
   "id": "c9e2c3ec",
   "metadata": {},
   "outputs": [],
   "source": []
  }
 ],
 "metadata": {
  "kernelspec": {
   "display_name": "Python 3 (ipykernel)",
   "language": "python",
   "name": "python3"
  },
  "language_info": {
   "codemirror_mode": {
    "name": "ipython",
    "version": 3
   },
   "file_extension": ".py",
   "mimetype": "text/x-python",
   "name": "python",
   "nbconvert_exporter": "python",
   "pygments_lexer": "ipython3",
   "version": "3.11.5"
  }
 },
 "nbformat": 4,
 "nbformat_minor": 5
}
